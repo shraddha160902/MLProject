{
 "cells": [
  {
   "cell_type": "code",
   "execution_count": 1,
   "id": "5f4ed4d3",
   "metadata": {},
   "outputs": [],
   "source": [
    "import numpy as np\n",
    "import pandas as pd\n",
    "import matplotlib.pyplot as plt\n",
    "import seaborn as sns\n",
    "from sklearn.model_selection import train_test_split"
   ]
  },
  {
   "cell_type": "code",
   "execution_count": 3,
   "id": "bebd8ad1",
   "metadata": {},
   "outputs": [
    {
     "data": {
      "text/html": [
       "<div>\n",
       "<style scoped>\n",
       "    .dataframe tbody tr th:only-of-type {\n",
       "        vertical-align: middle;\n",
       "    }\n",
       "\n",
       "    .dataframe tbody tr th {\n",
       "        vertical-align: top;\n",
       "    }\n",
       "\n",
       "    .dataframe thead th {\n",
       "        text-align: right;\n",
       "    }\n",
       "</style>\n",
       "<table border=\"1\" class=\"dataframe\">\n",
       "  <thead>\n",
       "    <tr style=\"text-align: right;\">\n",
       "      <th></th>\n",
       "      <th>male</th>\n",
       "      <th>age</th>\n",
       "      <th>education</th>\n",
       "      <th>currentSmoker</th>\n",
       "      <th>cigsPerDay</th>\n",
       "      <th>BPMeds</th>\n",
       "      <th>prevalentStroke</th>\n",
       "      <th>prevalentHyp</th>\n",
       "      <th>diabetes</th>\n",
       "      <th>totChol</th>\n",
       "      <th>sysBP</th>\n",
       "      <th>diaBP</th>\n",
       "      <th>BMI</th>\n",
       "      <th>heartRate</th>\n",
       "      <th>glucose</th>\n",
       "      <th>TenYearCHD</th>\n",
       "    </tr>\n",
       "  </thead>\n",
       "  <tbody>\n",
       "    <tr>\n",
       "      <th>0</th>\n",
       "      <td>1</td>\n",
       "      <td>39</td>\n",
       "      <td>4.0</td>\n",
       "      <td>0</td>\n",
       "      <td>0.0</td>\n",
       "      <td>0.0</td>\n",
       "      <td>0</td>\n",
       "      <td>0</td>\n",
       "      <td>0</td>\n",
       "      <td>195.0</td>\n",
       "      <td>106.0</td>\n",
       "      <td>70.0</td>\n",
       "      <td>26.97</td>\n",
       "      <td>80.0</td>\n",
       "      <td>77.0</td>\n",
       "      <td>0</td>\n",
       "    </tr>\n",
       "    <tr>\n",
       "      <th>1</th>\n",
       "      <td>0</td>\n",
       "      <td>46</td>\n",
       "      <td>2.0</td>\n",
       "      <td>0</td>\n",
       "      <td>0.0</td>\n",
       "      <td>0.0</td>\n",
       "      <td>0</td>\n",
       "      <td>0</td>\n",
       "      <td>0</td>\n",
       "      <td>250.0</td>\n",
       "      <td>121.0</td>\n",
       "      <td>81.0</td>\n",
       "      <td>28.73</td>\n",
       "      <td>95.0</td>\n",
       "      <td>76.0</td>\n",
       "      <td>0</td>\n",
       "    </tr>\n",
       "    <tr>\n",
       "      <th>2</th>\n",
       "      <td>1</td>\n",
       "      <td>48</td>\n",
       "      <td>1.0</td>\n",
       "      <td>1</td>\n",
       "      <td>20.0</td>\n",
       "      <td>0.0</td>\n",
       "      <td>0</td>\n",
       "      <td>0</td>\n",
       "      <td>0</td>\n",
       "      <td>245.0</td>\n",
       "      <td>127.5</td>\n",
       "      <td>80.0</td>\n",
       "      <td>25.34</td>\n",
       "      <td>75.0</td>\n",
       "      <td>70.0</td>\n",
       "      <td>0</td>\n",
       "    </tr>\n",
       "    <tr>\n",
       "      <th>3</th>\n",
       "      <td>0</td>\n",
       "      <td>61</td>\n",
       "      <td>3.0</td>\n",
       "      <td>1</td>\n",
       "      <td>30.0</td>\n",
       "      <td>0.0</td>\n",
       "      <td>0</td>\n",
       "      <td>1</td>\n",
       "      <td>0</td>\n",
       "      <td>225.0</td>\n",
       "      <td>150.0</td>\n",
       "      <td>95.0</td>\n",
       "      <td>28.58</td>\n",
       "      <td>65.0</td>\n",
       "      <td>103.0</td>\n",
       "      <td>1</td>\n",
       "    </tr>\n",
       "    <tr>\n",
       "      <th>4</th>\n",
       "      <td>0</td>\n",
       "      <td>46</td>\n",
       "      <td>3.0</td>\n",
       "      <td>1</td>\n",
       "      <td>23.0</td>\n",
       "      <td>0.0</td>\n",
       "      <td>0</td>\n",
       "      <td>0</td>\n",
       "      <td>0</td>\n",
       "      <td>285.0</td>\n",
       "      <td>130.0</td>\n",
       "      <td>84.0</td>\n",
       "      <td>23.10</td>\n",
       "      <td>85.0</td>\n",
       "      <td>85.0</td>\n",
       "      <td>0</td>\n",
       "    </tr>\n",
       "  </tbody>\n",
       "</table>\n",
       "</div>"
      ],
      "text/plain": [
       "   male  age  education  currentSmoker  cigsPerDay  BPMeds  prevalentStroke  \\\n",
       "0     1   39        4.0              0         0.0     0.0                0   \n",
       "1     0   46        2.0              0         0.0     0.0                0   \n",
       "2     1   48        1.0              1        20.0     0.0                0   \n",
       "3     0   61        3.0              1        30.0     0.0                0   \n",
       "4     0   46        3.0              1        23.0     0.0                0   \n",
       "\n",
       "   prevalentHyp  diabetes  totChol  sysBP  diaBP    BMI  heartRate  glucose  \\\n",
       "0             0         0    195.0  106.0   70.0  26.97       80.0     77.0   \n",
       "1             0         0    250.0  121.0   81.0  28.73       95.0     76.0   \n",
       "2             0         0    245.0  127.5   80.0  25.34       75.0     70.0   \n",
       "3             1         0    225.0  150.0   95.0  28.58       65.0    103.0   \n",
       "4             0         0    285.0  130.0   84.0  23.10       85.0     85.0   \n",
       "\n",
       "   TenYearCHD  \n",
       "0           0  \n",
       "1           0  \n",
       "2           0  \n",
       "3           1  \n",
       "4           0  "
      ]
     },
     "execution_count": 3,
     "metadata": {},
     "output_type": "execute_result"
    }
   ],
   "source": [
    "data = pd.read_csv('framingham.csv')\n",
    "data.head()"
   ]
  },
  {
   "cell_type": "code",
   "execution_count": 4,
   "id": "b8d0213d",
   "metadata": {},
   "outputs": [],
   "source": [
    "# renaming TenYearCHD to CHD\n",
    "data.rename(columns={\"TenYearCHD\": \"CHD\"}, inplace=True)#inplace=True returns None,the data is renamed in place\n",
    "                                        #inplace=False returns a copy of the object with the operation performed. "
   ]
  },
  {
   "cell_type": "code",
   "execution_count": 5,
   "id": "dbc103cb",
   "metadata": {},
   "outputs": [],
   "source": [
    "X_train, X_test, y_train, y_test = train_test_split(data.iloc[:,:-1], data.iloc[:,-1], test_size=0.14, random_state=0)\n",
    "\n",
    "train_data = pd.concat([X_train, y_train], axis=1)\n",
    "test_data = pd.concat([X_test, y_test], axis=1)\n",
    "\n",
    "train_data.to_csv('./heart_study_train.csv') #create csv file of each\n",
    "test_data.to_csv('./heart_study_test.csv')"
   ]
  },
  {
   "cell_type": "code",
   "execution_count": 6,
   "id": "c346084c",
   "metadata": {},
   "outputs": [
    {
     "data": {
      "text/html": [
       "<div>\n",
       "<style scoped>\n",
       "    .dataframe tbody tr th:only-of-type {\n",
       "        vertical-align: middle;\n",
       "    }\n",
       "\n",
       "    .dataframe tbody tr th {\n",
       "        vertical-align: top;\n",
       "    }\n",
       "\n",
       "    .dataframe thead th {\n",
       "        text-align: right;\n",
       "    }\n",
       "</style>\n",
       "<table border=\"1\" class=\"dataframe\">\n",
       "  <thead>\n",
       "    <tr style=\"text-align: right;\">\n",
       "      <th></th>\n",
       "      <th>male</th>\n",
       "      <th>age</th>\n",
       "      <th>education</th>\n",
       "      <th>currentSmoker</th>\n",
       "      <th>cigsPerDay</th>\n",
       "    </tr>\n",
       "  </thead>\n",
       "  <tbody>\n",
       "    <tr>\n",
       "      <th>1073</th>\n",
       "      <td>1</td>\n",
       "      <td>48</td>\n",
       "      <td>1.0</td>\n",
       "      <td>0</td>\n",
       "      <td>0.0</td>\n",
       "    </tr>\n",
       "    <tr>\n",
       "      <th>953</th>\n",
       "      <td>0</td>\n",
       "      <td>39</td>\n",
       "      <td>1.0</td>\n",
       "      <td>1</td>\n",
       "      <td>5.0</td>\n",
       "    </tr>\n",
       "    <tr>\n",
       "      <th>2584</th>\n",
       "      <td>0</td>\n",
       "      <td>43</td>\n",
       "      <td>1.0</td>\n",
       "      <td>1</td>\n",
       "      <td>1.0</td>\n",
       "    </tr>\n",
       "    <tr>\n",
       "      <th>3068</th>\n",
       "      <td>0</td>\n",
       "      <td>46</td>\n",
       "      <td>3.0</td>\n",
       "      <td>1</td>\n",
       "      <td>30.0</td>\n",
       "    </tr>\n",
       "    <tr>\n",
       "      <th>1826</th>\n",
       "      <td>0</td>\n",
       "      <td>38</td>\n",
       "      <td>2.0</td>\n",
       "      <td>0</td>\n",
       "      <td>0.0</td>\n",
       "    </tr>\n",
       "    <tr>\n",
       "      <th>...</th>\n",
       "      <td>...</td>\n",
       "      <td>...</td>\n",
       "      <td>...</td>\n",
       "      <td>...</td>\n",
       "      <td>...</td>\n",
       "    </tr>\n",
       "    <tr>\n",
       "      <th>1033</th>\n",
       "      <td>0</td>\n",
       "      <td>44</td>\n",
       "      <td>2.0</td>\n",
       "      <td>0</td>\n",
       "      <td>0.0</td>\n",
       "    </tr>\n",
       "    <tr>\n",
       "      <th>3264</th>\n",
       "      <td>0</td>\n",
       "      <td>51</td>\n",
       "      <td>1.0</td>\n",
       "      <td>1</td>\n",
       "      <td>2.0</td>\n",
       "    </tr>\n",
       "    <tr>\n",
       "      <th>1653</th>\n",
       "      <td>1</td>\n",
       "      <td>39</td>\n",
       "      <td>3.0</td>\n",
       "      <td>1</td>\n",
       "      <td>20.0</td>\n",
       "    </tr>\n",
       "    <tr>\n",
       "      <th>2607</th>\n",
       "      <td>0</td>\n",
       "      <td>57</td>\n",
       "      <td>1.0</td>\n",
       "      <td>0</td>\n",
       "      <td>0.0</td>\n",
       "    </tr>\n",
       "    <tr>\n",
       "      <th>2732</th>\n",
       "      <td>0</td>\n",
       "      <td>40</td>\n",
       "      <td>2.0</td>\n",
       "      <td>1</td>\n",
       "      <td>15.0</td>\n",
       "    </tr>\n",
       "  </tbody>\n",
       "</table>\n",
       "<p>3646 rows × 5 columns</p>\n",
       "</div>"
      ],
      "text/plain": [
       "      male  age  education  currentSmoker  cigsPerDay\n",
       "1073     1   48        1.0              0         0.0\n",
       "953      0   39        1.0              1         5.0\n",
       "2584     0   43        1.0              1         1.0\n",
       "3068     0   46        3.0              1        30.0\n",
       "1826     0   38        2.0              0         0.0\n",
       "...    ...  ...        ...            ...         ...\n",
       "1033     0   44        2.0              0         0.0\n",
       "3264     0   51        1.0              1         2.0\n",
       "1653     1   39        3.0              1        20.0\n",
       "2607     0   57        1.0              0         0.0\n",
       "2732     0   40        2.0              1        15.0\n",
       "\n",
       "[3646 rows x 5 columns]"
      ]
     },
     "execution_count": 6,
     "metadata": {},
     "output_type": "execute_result"
    }
   ],
   "source": [
    "train_data.iloc[:,:5] #dataframe.iloc[row, column]"
   ]
  },
  {
   "cell_type": "code",
   "execution_count": 11,
   "id": "3e457266",
   "metadata": {},
   "outputs": [],
   "source": [
    "#From pairplot and heatmap we see that sysBP and diaBP are highly correlated\n",
    "#And currentSmoker and cigsPerDay are highly correlated\n",
    "# dropping features which are highly correlated\n",
    "features_to_drop = ['currentSmoker', 'diaBP']\n",
    "\n",
    "train_data.drop(features_to_drop, axis=1, inplace=True)"
   ]
  },
  {
   "cell_type": "code",
   "execution_count": 12,
   "id": "2f5ab00d",
   "metadata": {},
   "outputs": [
    {
     "data": {
      "text/html": [
       "<div>\n",
       "<style scoped>\n",
       "    .dataframe tbody tr th:only-of-type {\n",
       "        vertical-align: middle;\n",
       "    }\n",
       "\n",
       "    .dataframe tbody tr th {\n",
       "        vertical-align: top;\n",
       "    }\n",
       "\n",
       "    .dataframe thead th {\n",
       "        text-align: right;\n",
       "    }\n",
       "</style>\n",
       "<table border=\"1\" class=\"dataframe\">\n",
       "  <thead>\n",
       "    <tr style=\"text-align: right;\">\n",
       "      <th></th>\n",
       "      <th>male</th>\n",
       "      <th>age</th>\n",
       "      <th>education</th>\n",
       "      <th>cigsPerDay</th>\n",
       "      <th>BPMeds</th>\n",
       "      <th>prevalentStroke</th>\n",
       "      <th>prevalentHyp</th>\n",
       "      <th>diabetes</th>\n",
       "      <th>totChol</th>\n",
       "      <th>sysBP</th>\n",
       "      <th>BMI</th>\n",
       "      <th>heartRate</th>\n",
       "      <th>glucose</th>\n",
       "      <th>CHD</th>\n",
       "    </tr>\n",
       "  </thead>\n",
       "  <tbody>\n",
       "    <tr>\n",
       "      <th>1073</th>\n",
       "      <td>1</td>\n",
       "      <td>48</td>\n",
       "      <td>1.0</td>\n",
       "      <td>0.0</td>\n",
       "      <td>0.0</td>\n",
       "      <td>0</td>\n",
       "      <td>0</td>\n",
       "      <td>0</td>\n",
       "      <td>181.0</td>\n",
       "      <td>153.0</td>\n",
       "      <td>29.34</td>\n",
       "      <td>103.0</td>\n",
       "      <td>88.0</td>\n",
       "      <td>0</td>\n",
       "    </tr>\n",
       "    <tr>\n",
       "      <th>953</th>\n",
       "      <td>0</td>\n",
       "      <td>39</td>\n",
       "      <td>1.0</td>\n",
       "      <td>5.0</td>\n",
       "      <td>0.0</td>\n",
       "      <td>0</td>\n",
       "      <td>0</td>\n",
       "      <td>0</td>\n",
       "      <td>170.0</td>\n",
       "      <td>137.5</td>\n",
       "      <td>27.35</td>\n",
       "      <td>67.0</td>\n",
       "      <td>70.0</td>\n",
       "      <td>0</td>\n",
       "    </tr>\n",
       "    <tr>\n",
       "      <th>2584</th>\n",
       "      <td>0</td>\n",
       "      <td>43</td>\n",
       "      <td>1.0</td>\n",
       "      <td>1.0</td>\n",
       "      <td>0.0</td>\n",
       "      <td>0</td>\n",
       "      <td>0</td>\n",
       "      <td>0</td>\n",
       "      <td>256.0</td>\n",
       "      <td>129.0</td>\n",
       "      <td>25.89</td>\n",
       "      <td>96.0</td>\n",
       "      <td>72.0</td>\n",
       "      <td>0</td>\n",
       "    </tr>\n",
       "    <tr>\n",
       "      <th>3068</th>\n",
       "      <td>0</td>\n",
       "      <td>46</td>\n",
       "      <td>3.0</td>\n",
       "      <td>30.0</td>\n",
       "      <td>0.0</td>\n",
       "      <td>0</td>\n",
       "      <td>0</td>\n",
       "      <td>0</td>\n",
       "      <td>196.0</td>\n",
       "      <td>114.0</td>\n",
       "      <td>21.01</td>\n",
       "      <td>60.0</td>\n",
       "      <td>69.0</td>\n",
       "      <td>0</td>\n",
       "    </tr>\n",
       "    <tr>\n",
       "      <th>1826</th>\n",
       "      <td>0</td>\n",
       "      <td>38</td>\n",
       "      <td>2.0</td>\n",
       "      <td>0.0</td>\n",
       "      <td>0.0</td>\n",
       "      <td>0</td>\n",
       "      <td>0</td>\n",
       "      <td>0</td>\n",
       "      <td>167.0</td>\n",
       "      <td>102.5</td>\n",
       "      <td>22.58</td>\n",
       "      <td>60.0</td>\n",
       "      <td>57.0</td>\n",
       "      <td>0</td>\n",
       "    </tr>\n",
       "  </tbody>\n",
       "</table>\n",
       "</div>"
      ],
      "text/plain": [
       "      male  age  education  cigsPerDay  BPMeds  prevalentStroke  prevalentHyp  \\\n",
       "1073     1   48        1.0         0.0     0.0                0             0   \n",
       "953      0   39        1.0         5.0     0.0                0             0   \n",
       "2584     0   43        1.0         1.0     0.0                0             0   \n",
       "3068     0   46        3.0        30.0     0.0                0             0   \n",
       "1826     0   38        2.0         0.0     0.0                0             0   \n",
       "\n",
       "      diabetes  totChol  sysBP    BMI  heartRate  glucose  CHD  \n",
       "1073         0    181.0  153.0  29.34      103.0     88.0    0  \n",
       "953          0    170.0  137.5  27.35       67.0     70.0    0  \n",
       "2584         0    256.0  129.0  25.89       96.0     72.0    0  \n",
       "3068         0    196.0  114.0  21.01       60.0     69.0    0  \n",
       "1826         0    167.0  102.5  22.58       60.0     57.0    0  "
      ]
     },
     "execution_count": 12,
     "metadata": {},
     "output_type": "execute_result"
    }
   ],
   "source": [
    "train_data.head()"
   ]
  },
  {
   "cell_type": "code",
   "execution_count": 13,
   "id": "dad25c4a",
   "metadata": {},
   "outputs": [
    {
     "name": "stdout",
     "output_type": "stream",
     "text": [
      "9.133296763576523\n"
     ]
    }
   ],
   "source": [
    "#it will impute or drop missing values for all features, whether some features are needed or not\n",
    "#the steps best for model preparation is : EDA -> Preprocessing (Missing values, Outliers, Normalise etc.) -> Model Fitting and Prediction\n",
    "#EDA->swarmplot,violinplot,countplot,pairplot,heatmap\n",
    "\n",
    "missing_values_count = train_data.isnull().sum()\n",
    "missing_values_count = missing_values_count[missing_values_count > 0]\n",
    "missing_values_percent = (missing_values_count * 100) / (train_data.shape[0])\n",
    "\n",
    "print(max(missing_values_percent))"
   ]
  },
  {
   "cell_type": "code",
   "execution_count": 15,
   "id": "a22fdbc7",
   "metadata": {},
   "outputs": [],
   "source": [
    "#Maximum missing percentage is 9% approx so imputation will be done\n",
    "from sklearn.impute import SimpleImputer\n",
    "imputer = SimpleImputer(strategy='most_frequent')\n",
    "#Simple imputer mean is a strategy to handle missing data in a dataset.\n",
    "#It replaces the missing values with the mean of the column"
   ]
  },
  {
   "cell_type": "code",
   "execution_count": 16,
   "id": "5e60b89d",
   "metadata": {},
   "outputs": [],
   "source": [
    "new_train_data = pd.DataFrame(imputer.fit_transform(train_data))\n",
    "new_train_data.columns = train_data.columns\n",
    "new_train_data.index = train_data.index"
   ]
  },
  {
   "cell_type": "code",
   "execution_count": 17,
   "id": "0cd29fa4",
   "metadata": {},
   "outputs": [
    {
     "data": {
      "text/plain": [
       "male               0\n",
       "age                0\n",
       "education          0\n",
       "cigsPerDay         0\n",
       "BPMeds             0\n",
       "prevalentStroke    0\n",
       "prevalentHyp       0\n",
       "diabetes           0\n",
       "totChol            0\n",
       "sysBP              0\n",
       "BMI                0\n",
       "heartRate          0\n",
       "glucose            0\n",
       "CHD                0\n",
       "dtype: int64"
      ]
     },
     "execution_count": 17,
     "metadata": {},
     "output_type": "execute_result"
    }
   ],
   "source": [
    "new_train_data.isnull().sum()"
   ]
  },
  {
   "cell_type": "code",
   "execution_count": 18,
   "id": "852e9616",
   "metadata": {},
   "outputs": [],
   "source": [
    "train_data = new_train_data.copy()"
   ]
  },
  {
   "cell_type": "code",
   "execution_count": 19,
   "id": "2748a8ef",
   "metadata": {},
   "outputs": [
    {
     "name": "stdout",
     "output_type": "stream",
     "text": [
      "Number of training examples to be deleted for outliers removal is  51\n"
     ]
    }
   ],
   "source": [
    "#Conclusion of Boxplot :Outliers found in features named ['totChol', 'sysBP', 'BMI','heartRate', 'glucose']\n",
    "# Outliers handling\n",
    "#Outliers are those data points that are significantly different from the rest of the dataset. \n",
    "print('Number of training examples to be deleted for outliers removal is ',len(train_data[train_data['sysBP'] > 220]) + len(train_data[train_data['BMI'] > 43]) + len(\n",
    "    train_data[train_data['heartRate'] > 125]) + len(train_data[train_data['glucose'] > 200]) + len(\n",
    "    train_data[train_data['totChol'] > 450]))"
   ]
  },
  {
   "cell_type": "code",
   "execution_count": 20,
   "id": "b513678d",
   "metadata": {},
   "outputs": [
    {
     "name": "stdout",
     "output_type": "stream",
     "text": [
      "(3597, 14)\n"
     ]
    }
   ],
   "source": [
    "# deleting outliers\n",
    "\n",
    "train_data = train_data[~(train_data['sysBP'] > 220)]\n",
    "train_data = train_data[~(train_data['BMI'] > 43)]\n",
    "train_data = train_data[~(train_data['heartRate'] > 125)]\n",
    "train_data = train_data[~(train_data['glucose'] > 200)]\n",
    "train_data = train_data[~(train_data['totChol'] > 450)]\n",
    "print(train_data.shape)"
   ]
  },
  {
   "cell_type": "code",
   "execution_count": 21,
   "id": "45bc304c",
   "metadata": {},
   "outputs": [],
   "source": [
    "# Standardise some features\n",
    "from sklearn.preprocessing import StandardScaler\n",
    "scaler = StandardScaler()\n",
    "cols_to_standardise = ['age','totChol','sysBP','BMI', 'heartRate', 'glucose', 'cigsPerDay']#from graph of Normalisation Checking\n",
    "train_data[cols_to_standardise] = scaler.fit_transform(train_data[cols_to_standardise])"
   ]
  },
  {
   "cell_type": "code",
   "execution_count": 22,
   "id": "d551a39b",
   "metadata": {},
   "outputs": [],
   "source": [
    "#Test Data Preprocessing Similar to Train Data\n",
    "# dropping unwanted features as done in train data\n",
    "test_data.drop(features_to_drop, axis=1, inplace=True)\n",
    "\n",
    "# imputing missing values if any\n",
    "imputer = SimpleImputer(strategy='most_frequent')\n",
    "new_test_data = pd.DataFrame(imputer.fit_transform(test_data))\n",
    "new_test_data.columns = test_data.columns\n",
    "new_test_data.index = test_data.index\n",
    "\n",
    "test_data = new_test_data.copy()\n"
   ]
  },
  {
   "cell_type": "code",
   "execution_count": 23,
   "id": "6ad227b4",
   "metadata": {},
   "outputs": [],
   "source": [
    "# Standardising features\n",
    "scaler = StandardScaler()\n",
    "test_data[cols_to_standardise] = scaler.fit_transform(test_data[cols_to_standardise])"
   ]
  },
  {
   "cell_type": "code",
   "execution_count": null,
   "id": "30a8ea28",
   "metadata": {},
   "outputs": [],
   "source": [
    "#Logistic Regression"
   ]
  },
  {
   "cell_type": "code",
   "execution_count": 24,
   "id": "c57797a8",
   "metadata": {},
   "outputs": [],
   "source": [
    "from sklearn.linear_model import LogisticRegression\n",
    "log_reg = LogisticRegression()"
   ]
  },
  {
   "cell_type": "code",
   "execution_count": 25,
   "id": "ac94b1ec",
   "metadata": {},
   "outputs": [],
   "source": [
    "X_train = train_data.loc[:,train_data.columns != 'CHD']\n",
    "y_train = train_data.loc[:,'CHD']\n",
    "X_test = test_data.loc[:, test_data.columns !='CHD']\n",
    "y_test = test_data.loc[:, 'CHD']"
   ]
  },
  {
   "cell_type": "code",
   "execution_count": 35,
   "id": "97229acf",
   "metadata": {},
   "outputs": [],
   "source": [
    "log_reg.fit(X_train, y_train)\n",
    "y_pred_log = log_reg.predict(X_test)"
   ]
  },
  {
   "cell_type": "code",
   "execution_count": 27,
   "id": "895e48a5",
   "metadata": {},
   "outputs": [],
   "source": [
    "from sklearn.metrics import accuracy_score, confusion_matrix, classification_report"
   ]
  },
  {
   "cell_type": "code",
   "execution_count": 28,
   "id": "dd594a75",
   "metadata": {},
   "outputs": [
    {
     "name": "stdout",
     "output_type": "stream",
     "text": [
      "Accuracy Score for logistic regression is 85.353535\n"
     ]
    }
   ],
   "source": [
    "log_reg_accuracy = accuracy_score(y_pred_log, y_test) * 100\n",
    "print('Accuracy Score for logistic regression is %f'%log_reg_accuracy)"
   ]
  },
  {
   "cell_type": "code",
   "execution_count": 29,
   "id": "da170258",
   "metadata": {},
   "outputs": [
    {
     "name": "stdout",
     "output_type": "stream",
     "text": [
      "Train score for Logistic Regression is 85.682513\n"
     ]
    }
   ],
   "source": [
    "log_train_score = log_reg.score(X_train, y_train) * 100\n",
    "print('Train score for Logistic Regression is %f'%log_train_score)\n",
    "#The score method returns the mean accuracy of the model across all classes\n",
    "#the accuracy_score method calculates the accuracy for each class separately and returns the average accuracy across all classes"
   ]
  },
  {
   "cell_type": "code",
   "execution_count": 30,
   "id": "0313a6e7",
   "metadata": {},
   "outputs": [
    {
     "name": "stdout",
     "output_type": "stream",
     "text": [
      "Difference between train and test score for Logistic Regression is 0.328978\n"
     ]
    }
   ],
   "source": [
    "print('Difference between train and test score for Logistic Regression is %f'%(log_train_score - log_reg_accuracy))"
   ]
  },
  {
   "cell_type": "code",
   "execution_count": 31,
   "id": "25911bca",
   "metadata": {},
   "outputs": [
    {
     "data": {
      "text/plain": [
       "array([[500,  87],\n",
       "       [  0,   7]], dtype=int64)"
      ]
     },
     "execution_count": 31,
     "metadata": {},
     "output_type": "execute_result"
    }
   ],
   "source": [
    "confusion_matrix(y_pred_log, y_test)\n",
    "#represents the prediction summary in matrix form\n",
    "#The matrix compares the actual target values with those predicted by the machine learning model."
   ]
  },
  {
   "cell_type": "code",
   "execution_count": 32,
   "id": "32122868",
   "metadata": {},
   "outputs": [
    {
     "name": "stdout",
     "output_type": "stream",
     "text": [
      "              precision    recall  f1-score   support\n",
      "\n",
      "         0.0       1.00      0.85      0.92       587\n",
      "         1.0       0.07      1.00      0.14         7\n",
      "\n",
      "    accuracy                           0.85       594\n",
      "   macro avg       0.54      0.93      0.53       594\n",
      "weighted avg       0.99      0.85      0.91       594\n",
      "\n"
     ]
    }
   ],
   "source": [
    "print(classification_report(y_pred_log, y_test))"
   ]
  },
  {
   "cell_type": "code",
   "execution_count": 36,
   "id": "092b5468",
   "metadata": {},
   "outputs": [],
   "source": [
    "#Decision Tree Classifier"
   ]
  },
  {
   "cell_type": "code",
   "execution_count": 37,
   "id": "6ef41dd1",
   "metadata": {},
   "outputs": [],
   "source": [
    "from sklearn.tree import DecisionTreeClassifier\n"
   ]
  },
  {
   "cell_type": "code",
   "execution_count": 38,
   "id": "55793a8d",
   "metadata": {},
   "outputs": [],
   "source": [
    "dt_clf = DecisionTreeClassifier(min_samples_split=40, random_state=0) \n",
    "#min_samples_split->The minimum number of samples required to split a node. \n",
    "# for min_samples_split as 180 I got a better accuracy and train score and difference was less\n",
    "# but f1 score was very bad for positive class\n",
    "# and setting min_samples_split as 40, we got good results for all metrics"
   ]
  },
  {
   "cell_type": "code",
   "execution_count": 39,
   "id": "e42dd441",
   "metadata": {},
   "outputs": [],
   "source": [
    "dt_clf.fit(X_train, y_train)\n",
    "y_pred_dt = dt_clf.predict(X_test)"
   ]
  },
  {
   "cell_type": "code",
   "execution_count": 40,
   "id": "fc9f2767",
   "metadata": {},
   "outputs": [
    {
     "name": "stdout",
     "output_type": "stream",
     "text": [
      "Accuracy score for Decision tree is 82.828283\n"
     ]
    }
   ],
   "source": [
    "dt_accuracy = accuracy_score(y_pred_dt, y_test)*100\n",
    "print('Accuracy score for Decision tree is %f'%dt_accuracy)"
   ]
  },
  {
   "cell_type": "code",
   "execution_count": 41,
   "id": "f85a9306",
   "metadata": {},
   "outputs": [
    {
     "name": "stdout",
     "output_type": "stream",
     "text": [
      "Train score for Decision tree is 87.823186\n"
     ]
    }
   ],
   "source": [
    "dt_train_score = dt_clf.score(X_train, y_train)*100\n",
    "print('Train score for Decision tree is %f'%dt_train_score)"
   ]
  },
  {
   "cell_type": "code",
   "execution_count": 42,
   "id": "3c5d7b03",
   "metadata": {},
   "outputs": [
    {
     "name": "stdout",
     "output_type": "stream",
     "text": [
      "Difference between train and test scores for Decision tree is : 4.994903\n"
     ]
    }
   ],
   "source": [
    "print('Difference between train and test scores for Decision tree is : %f'%(dt_train_score - dt_accuracy))"
   ]
  },
  {
   "cell_type": "code",
   "execution_count": 43,
   "id": "8255a78c",
   "metadata": {},
   "outputs": [
    {
     "data": {
      "text/plain": [
       "array([[478,  80],\n",
       "       [ 22,  14]], dtype=int64)"
      ]
     },
     "execution_count": 43,
     "metadata": {},
     "output_type": "execute_result"
    }
   ],
   "source": [
    "confusion_matrix(y_pred_dt, y_test)"
   ]
  },
  {
   "cell_type": "code",
   "execution_count": 44,
   "id": "0b76b45a",
   "metadata": {},
   "outputs": [
    {
     "name": "stdout",
     "output_type": "stream",
     "text": [
      "              precision    recall  f1-score   support\n",
      "\n",
      "         0.0       0.96      0.86      0.90       558\n",
      "         1.0       0.15      0.39      0.22        36\n",
      "\n",
      "    accuracy                           0.83       594\n",
      "   macro avg       0.55      0.62      0.56       594\n",
      "weighted avg       0.91      0.83      0.86       594\n",
      "\n"
     ]
    }
   ],
   "source": [
    "print(classification_report(y_pred_dt, y_test))"
   ]
  },
  {
   "cell_type": "code",
   "execution_count": 46,
   "id": "00559e84",
   "metadata": {},
   "outputs": [
    {
     "name": "stdout",
     "output_type": "stream",
     "text": [
      "Decision tree in text format : \n",
      "|--- age <= -0.12\n",
      "|   |--- sysBP <= 2.82\n",
      "|   |   |--- cigsPerDay <= 0.05\n",
      "|   |   |   |--- sysBP <= -0.22\n",
      "|   |   |   |   |--- heartRate <= -1.11\n",
      "|   |   |   |   |   |--- heartRate <= -1.20\n",
      "|   |   |   |   |   |   |--- totChol <= -0.69\n",
      "|   |   |   |   |   |   |   |--- totChol <= -0.79\n",
      "|   |   |   |   |   |   |   |   |--- BMI <= -1.03\n",
      "|   |   |   |   |   |   |   |   |   |--- class: 0.0\n",
      "|   |   |   |   |   |   |   |   |--- BMI >  -1.03\n",
      "|   |   |   |   |   |   |   |   |   |--- class: 0.0\n",
      "|   |   |   |   |   |   |   |--- totChol >  -0.79\n",
      "|   |   |   |   |   |   |   |   |--- class: 0.0\n",
      "|   |   |   |   |   |   |--- totChol >  -0.69\n",
      "|   |   |   |   |   |   |   |--- class: 0.0\n",
      "|   |   |   |   |   |--- heartRate >  -1.20\n",
      "|   |   |   |   |   |   |--- class: 0.0\n",
      "|   |   |   |   |--- heartRate >  -1.11\n",
      "|   |   |   |   |   |--- glucose <= -0.87\n",
      "|   |   |   |   |   |   |--- age <= -0.70\n",
      "|   |   |   |   |   |   |   |--- totChol <= -1.52\n",
      "|   |   |   |   |   |   |   |   |--- class: 0.0\n",
      "|   |   |   |   |   |   |   |--- totChol >  -1.52\n",
      "|   |   |   |   |   |   |   |   |--- BMI <= 0.67\n",
      "|   |   |   |   |   |   |   |   |   |--- class: 0.0\n",
      "|   |   |   |   |   |   |   |   |--- BMI >  0.67\n",
      "|   |   |   |   |   |   |   |   |   |--- class: 0.0\n",
      "|   |   |   |   |   |   |--- age >  -0.70\n",
      "|   |   |   |   |   |   |   |--- class: 0.0\n",
      "|   |   |   |   |   |--- glucose >  -0.87\n",
      "|   |   |   |   |   |   |--- BMI <= 1.27\n",
      "|   |   |   |   |   |   |   |--- totChol <= -0.81\n",
      "|   |   |   |   |   |   |   |   |--- class: 0.0\n",
      "|   |   |   |   |   |   |   |--- totChol >  -0.81\n",
      "|   |   |   |   |   |   |   |   |--- totChol <= -0.79\n",
      "|   |   |   |   |   |   |   |   |   |--- class: 0.0\n",
      "|   |   |   |   |   |   |   |   |--- totChol >  -0.79\n",
      "|   |   |   |   |   |   |   |   |   |--- sysBP <= -0.58\n",
      "|   |   |   |   |   |   |   |   |   |   |--- sysBP <= -0.66\n",
      "|   |   |   |   |   |   |   |   |   |   |   |--- truncated branch of depth 2\n",
      "|   |   |   |   |   |   |   |   |   |   |--- sysBP >  -0.66\n",
      "|   |   |   |   |   |   |   |   |   |   |   |--- class: 0.0\n",
      "|   |   |   |   |   |   |   |   |   |--- sysBP >  -0.58\n",
      "|   |   |   |   |   |   |   |   |   |   |--- class: 0.0\n",
      "|   |   |   |   |   |   |--- BMI >  1.27\n",
      "|   |   |   |   |   |   |   |--- class: 0.0\n",
      "|   |   |   |--- sysBP >  -0.22\n",
      "|   |   |   |   |--- totChol <= 2.63\n",
      "|   |   |   |   |   |--- age <= -0.35\n",
      "|   |   |   |   |   |   |--- BMI <= 3.57\n",
      "|   |   |   |   |   |   |   |--- cigsPerDay <= -0.08\n",
      "|   |   |   |   |   |   |   |   |--- heartRate <= 2.54\n",
      "|   |   |   |   |   |   |   |   |   |--- heartRate <= 0.73\n",
      "|   |   |   |   |   |   |   |   |   |   |--- heartRate <= 0.65\n",
      "|   |   |   |   |   |   |   |   |   |   |   |--- truncated branch of depth 7\n",
      "|   |   |   |   |   |   |   |   |   |   |--- heartRate >  0.65\n",
      "|   |   |   |   |   |   |   |   |   |   |   |--- class: 0.0\n",
      "|   |   |   |   |   |   |   |   |   |--- heartRate >  0.73\n",
      "|   |   |   |   |   |   |   |   |   |   |--- totChol <= -1.43\n",
      "|   |   |   |   |   |   |   |   |   |   |   |--- class: 0.0\n",
      "|   |   |   |   |   |   |   |   |   |   |--- totChol >  -1.43\n",
      "|   |   |   |   |   |   |   |   |   |   |   |--- class: 0.0\n",
      "|   |   |   |   |   |   |   |   |--- heartRate >  2.54\n",
      "|   |   |   |   |   |   |   |   |   |--- class: 0.0\n",
      "|   |   |   |   |   |   |   |--- cigsPerDay >  -0.08\n",
      "|   |   |   |   |   |   |   |   |--- class: 0.0\n",
      "|   |   |   |   |   |   |--- BMI >  3.57\n",
      "|   |   |   |   |   |   |   |--- class: 0.0\n",
      "|   |   |   |   |   |--- age >  -0.35\n",
      "|   |   |   |   |   |   |--- BMI <= -1.83\n",
      "|   |   |   |   |   |   |   |--- class: 1.0\n",
      "|   |   |   |   |   |   |--- BMI >  -1.83\n",
      "|   |   |   |   |   |   |   |--- male <= 0.50\n",
      "|   |   |   |   |   |   |   |   |--- sysBP <= -0.19\n",
      "|   |   |   |   |   |   |   |   |   |--- class: 0.0\n",
      "|   |   |   |   |   |   |   |   |--- sysBP >  -0.19\n",
      "|   |   |   |   |   |   |   |   |   |--- glucose <= 2.42\n",
      "|   |   |   |   |   |   |   |   |   |   |--- education <= 2.50\n",
      "|   |   |   |   |   |   |   |   |   |   |   |--- class: 0.0\n",
      "|   |   |   |   |   |   |   |   |   |   |--- education >  2.50\n",
      "|   |   |   |   |   |   |   |   |   |   |   |--- class: 0.0\n",
      "|   |   |   |   |   |   |   |   |   |--- glucose >  2.42\n",
      "|   |   |   |   |   |   |   |   |   |   |--- class: 0.0\n",
      "|   |   |   |   |   |   |   |--- male >  0.50\n",
      "|   |   |   |   |   |   |   |   |--- class: 0.0\n",
      "|   |   |   |   |--- totChol >  2.63\n",
      "|   |   |   |   |   |--- class: 1.0\n",
      "|   |   |--- cigsPerDay >  0.05\n",
      "|   |   |   |--- totChol <= -0.11\n",
      "|   |   |   |   |--- age <= -0.23\n",
      "|   |   |   |   |   |--- heartRate <= -1.45\n",
      "|   |   |   |   |   |   |--- class: 0.0\n",
      "|   |   |   |   |   |--- heartRate >  -1.45\n",
      "|   |   |   |   |   |   |--- sysBP <= 0.99\n",
      "|   |   |   |   |   |   |   |--- totChol <= -2.11\n",
      "|   |   |   |   |   |   |   |   |--- class: 0.0\n",
      "|   |   |   |   |   |   |   |--- totChol >  -2.11\n",
      "|   |   |   |   |   |   |   |   |--- BMI <= -1.67\n",
      "|   |   |   |   |   |   |   |   |   |--- class: 0.0\n",
      "|   |   |   |   |   |   |   |   |--- BMI >  -1.67\n",
      "|   |   |   |   |   |   |   |   |   |--- glucose <= -0.51\n",
      "|   |   |   |   |   |   |   |   |   |   |--- education <= 1.50\n",
      "|   |   |   |   |   |   |   |   |   |   |   |--- class: 0.0\n",
      "|   |   |   |   |   |   |   |   |   |   |--- education >  1.50\n",
      "|   |   |   |   |   |   |   |   |   |   |   |--- truncated branch of depth 5\n",
      "|   |   |   |   |   |   |   |   |   |--- glucose >  -0.51\n",
      "|   |   |   |   |   |   |   |   |   |   |--- heartRate <= -0.61\n",
      "|   |   |   |   |   |   |   |   |   |   |   |--- truncated branch of depth 3\n",
      "|   |   |   |   |   |   |   |   |   |   |--- heartRate >  -0.61\n",
      "|   |   |   |   |   |   |   |   |   |   |   |--- truncated branch of depth 4\n",
      "|   |   |   |   |   |   |--- sysBP >  0.99\n",
      "|   |   |   |   |   |   |   |--- class: 0.0\n",
      "|   |   |   |   |--- age >  -0.23\n",
      "|   |   |   |   |   |--- class: 0.0\n",
      "|   |   |   |--- totChol >  -0.11\n",
      "|   |   |   |   |--- glucose <= -1.69\n",
      "|   |   |   |   |   |--- class: 1.0\n",
      "|   |   |   |   |--- glucose >  -1.69\n",
      "|   |   |   |   |   |--- diabetes <= 0.50\n",
      "|   |   |   |   |   |   |--- sysBP <= 0.87\n",
      "|   |   |   |   |   |   |   |--- BMI <= 0.72\n",
      "|   |   |   |   |   |   |   |   |--- glucose <= -0.87\n",
      "|   |   |   |   |   |   |   |   |   |--- BMI <= -0.63\n",
      "|   |   |   |   |   |   |   |   |   |   |--- class: 0.0\n",
      "|   |   |   |   |   |   |   |   |   |--- BMI >  -0.63\n",
      "|   |   |   |   |   |   |   |   |   |   |--- class: 0.0\n",
      "|   |   |   |   |   |   |   |   |--- glucose >  -0.87\n",
      "|   |   |   |   |   |   |   |   |   |--- BMI <= -0.43\n",
      "|   |   |   |   |   |   |   |   |   |   |--- BMI <= -1.28\n",
      "|   |   |   |   |   |   |   |   |   |   |   |--- class: 0.0\n",
      "|   |   |   |   |   |   |   |   |   |   |--- BMI >  -1.28\n",
      "|   |   |   |   |   |   |   |   |   |   |   |--- truncated branch of depth 4\n",
      "|   |   |   |   |   |   |   |   |   |--- BMI >  -0.43\n",
      "|   |   |   |   |   |   |   |   |   |   |--- BMI <= 0.38\n",
      "|   |   |   |   |   |   |   |   |   |   |   |--- truncated branch of depth 2\n",
      "|   |   |   |   |   |   |   |   |   |   |--- BMI >  0.38\n",
      "|   |   |   |   |   |   |   |   |   |   |   |--- class: 0.0\n",
      "|   |   |   |   |   |   |   |--- BMI >  0.72\n",
      "|   |   |   |   |   |   |   |   |--- sysBP <= 0.09\n",
      "|   |   |   |   |   |   |   |   |   |--- heartRate <= 0.14\n",
      "|   |   |   |   |   |   |   |   |   |   |--- class: 0.0\n",
      "|   |   |   |   |   |   |   |   |   |--- heartRate >  0.14\n",
      "|   |   |   |   |   |   |   |   |   |   |--- class: 1.0\n",
      "|   |   |   |   |   |   |   |   |--- sysBP >  0.09\n",
      "|   |   |   |   |   |   |   |   |   |--- class: 0.0\n",
      "|   |   |   |   |   |   |--- sysBP >  0.87\n",
      "|   |   |   |   |   |   |   |--- class: 0.0\n",
      "|   |   |   |   |   |--- diabetes >  0.50\n",
      "|   |   |   |   |   |   |--- class: 1.0\n",
      "|   |--- sysBP >  2.82\n",
      "|   |   |--- class: 1.0\n",
      "|--- age >  -0.12\n",
      "|   |--- sysBP <= 1.09\n",
      "|   |   |--- age <= 1.75\n",
      "|   |   |   |--- cigsPerDay <= 0.13\n",
      "|   |   |   |   |--- totChol <= -2.02\n",
      "|   |   |   |   |   |--- class: 1.0\n",
      "|   |   |   |   |--- totChol >  -2.02\n",
      "|   |   |   |   |   |--- sysBP <= -0.80\n",
      "|   |   |   |   |   |   |--- sysBP <= -1.78\n",
      "|   |   |   |   |   |   |   |--- class: 0.0\n",
      "|   |   |   |   |   |   |--- sysBP >  -1.78\n",
      "|   |   |   |   |   |   |   |--- cigsPerDay <= -0.08\n",
      "|   |   |   |   |   |   |   |   |--- diabetes <= 0.50\n",
      "|   |   |   |   |   |   |   |   |   |--- BMI <= -0.39\n",
      "|   |   |   |   |   |   |   |   |   |   |--- BMI <= -0.41\n",
      "|   |   |   |   |   |   |   |   |   |   |   |--- truncated branch of depth 5\n",
      "|   |   |   |   |   |   |   |   |   |   |--- BMI >  -0.41\n",
      "|   |   |   |   |   |   |   |   |   |   |   |--- class: 1.0\n",
      "|   |   |   |   |   |   |   |   |   |--- BMI >  -0.39\n",
      "|   |   |   |   |   |   |   |   |   |   |--- heartRate <= -1.41\n",
      "|   |   |   |   |   |   |   |   |   |   |   |--- class: 0.0\n",
      "|   |   |   |   |   |   |   |   |   |   |--- heartRate >  -1.41\n",
      "|   |   |   |   |   |   |   |   |   |   |   |--- class: 0.0\n",
      "|   |   |   |   |   |   |   |   |--- diabetes >  0.50\n",
      "|   |   |   |   |   |   |   |   |   |--- class: 0.0\n",
      "|   |   |   |   |   |   |   |--- cigsPerDay >  -0.08\n",
      "|   |   |   |   |   |   |   |   |--- class: 0.0\n",
      "|   |   |   |   |   |--- sysBP >  -0.80\n",
      "|   |   |   |   |   |   |--- BMI <= 0.90\n",
      "|   |   |   |   |   |   |   |--- totChol <= 4.29\n",
      "|   |   |   |   |   |   |   |   |--- age <= 1.28\n",
      "|   |   |   |   |   |   |   |   |   |--- glucose <= -1.84\n",
      "|   |   |   |   |   |   |   |   |   |   |--- class: 1.0\n",
      "|   |   |   |   |   |   |   |   |   |--- glucose >  -1.84\n",
      "|   |   |   |   |   |   |   |   |   |   |--- glucose <= 6.56\n",
      "|   |   |   |   |   |   |   |   |   |   |   |--- truncated branch of depth 12\n",
      "|   |   |   |   |   |   |   |   |   |   |--- glucose >  6.56\n",
      "|   |   |   |   |   |   |   |   |   |   |   |--- class: 1.0\n",
      "|   |   |   |   |   |   |   |   |--- age >  1.28\n",
      "|   |   |   |   |   |   |   |   |   |--- sysBP <= 0.63\n",
      "|   |   |   |   |   |   |   |   |   |   |--- heartRate <= -1.57\n",
      "|   |   |   |   |   |   |   |   |   |   |   |--- class: 0.0\n",
      "|   |   |   |   |   |   |   |   |   |   |--- heartRate >  -1.57\n",
      "|   |   |   |   |   |   |   |   |   |   |   |--- truncated branch of depth 5\n",
      "|   |   |   |   |   |   |   |   |   |--- sysBP >  0.63\n",
      "|   |   |   |   |   |   |   |   |   |   |--- class: 0.0\n",
      "|   |   |   |   |   |   |   |--- totChol >  4.29\n",
      "|   |   |   |   |   |   |   |   |--- class: 1.0\n",
      "|   |   |   |   |   |   |--- BMI >  0.90\n",
      "|   |   |   |   |   |   |   |--- glucose <= 1.16\n",
      "|   |   |   |   |   |   |   |   |--- totChol <= 1.69\n",
      "|   |   |   |   |   |   |   |   |   |--- totChol <= -0.04\n",
      "|   |   |   |   |   |   |   |   |   |   |--- sysBP <= 0.67\n",
      "|   |   |   |   |   |   |   |   |   |   |   |--- truncated branch of depth 2\n",
      "|   |   |   |   |   |   |   |   |   |   |--- sysBP >  0.67\n",
      "|   |   |   |   |   |   |   |   |   |   |   |--- class: 0.0\n",
      "|   |   |   |   |   |   |   |   |   |--- totChol >  -0.04\n",
      "|   |   |   |   |   |   |   |   |   |   |--- glucose <= -1.16\n",
      "|   |   |   |   |   |   |   |   |   |   |   |--- class: 0.0\n",
      "|   |   |   |   |   |   |   |   |   |   |--- glucose >  -1.16\n",
      "|   |   |   |   |   |   |   |   |   |   |   |--- truncated branch of depth 3\n",
      "|   |   |   |   |   |   |   |   |--- totChol >  1.69\n",
      "|   |   |   |   |   |   |   |   |   |--- class: 0.0\n",
      "|   |   |   |   |   |   |   |--- glucose >  1.16\n",
      "|   |   |   |   |   |   |   |   |--- class: 0.0\n",
      "|   |   |   |--- cigsPerDay >  0.13\n",
      "|   |   |   |   |--- heartRate <= 1.11\n",
      "|   |   |   |   |   |--- male <= 0.50\n",
      "|   |   |   |   |   |   |--- glucose <= 0.81\n",
      "|   |   |   |   |   |   |   |--- BMI <= -1.49\n",
      "|   |   |   |   |   |   |   |   |--- class: 0.0\n",
      "|   |   |   |   |   |   |   |--- BMI >  -1.49\n",
      "|   |   |   |   |   |   |   |   |--- sysBP <= 0.29\n",
      "|   |   |   |   |   |   |   |   |   |--- class: 0.0\n",
      "|   |   |   |   |   |   |   |   |--- sysBP >  0.29\n",
      "|   |   |   |   |   |   |   |   |   |--- class: 0.0\n",
      "|   |   |   |   |   |   |--- glucose >  0.81\n",
      "|   |   |   |   |   |   |   |--- class: 0.0\n",
      "|   |   |   |   |   |--- male >  0.50\n",
      "|   |   |   |   |   |   |--- totChol <= -1.03\n",
      "|   |   |   |   |   |   |   |--- class: 0.0\n",
      "|   |   |   |   |   |   |--- totChol >  -1.03\n",
      "|   |   |   |   |   |   |   |--- age <= 1.16\n",
      "|   |   |   |   |   |   |   |   |--- totChol <= 2.34\n",
      "|   |   |   |   |   |   |   |   |   |--- education <= 3.50\n",
      "|   |   |   |   |   |   |   |   |   |   |--- BMI <= -0.10\n",
      "|   |   |   |   |   |   |   |   |   |   |   |--- truncated branch of depth 4\n",
      "|   |   |   |   |   |   |   |   |   |   |--- BMI >  -0.10\n",
      "|   |   |   |   |   |   |   |   |   |   |   |--- truncated branch of depth 3\n",
      "|   |   |   |   |   |   |   |   |   |--- education >  3.50\n",
      "|   |   |   |   |   |   |   |   |   |   |--- class: 0.0\n",
      "|   |   |   |   |   |   |   |   |--- totChol >  2.34\n",
      "|   |   |   |   |   |   |   |   |   |--- class: 1.0\n",
      "|   |   |   |   |   |   |   |--- age >  1.16\n",
      "|   |   |   |   |   |   |   |   |--- class: 0.0\n",
      "|   |   |   |   |--- heartRate >  1.11\n",
      "|   |   |   |   |   |--- BMI <= -0.78\n",
      "|   |   |   |   |   |   |--- class: 1.0\n",
      "|   |   |   |   |   |--- BMI >  -0.78\n",
      "|   |   |   |   |   |   |--- class: 0.0\n",
      "|   |   |--- age >  1.75\n",
      "|   |   |   |--- totChol <= -1.49\n",
      "|   |   |   |   |--- class: 1.0\n",
      "|   |   |   |--- totChol >  -1.49\n",
      "|   |   |   |   |--- glucose <= -0.37\n",
      "|   |   |   |   |   |--- class: 0.0\n",
      "|   |   |   |   |--- glucose >  -0.37\n",
      "|   |   |   |   |   |--- prevalentHyp <= 0.50\n",
      "|   |   |   |   |   |   |--- class: 0.0\n",
      "|   |   |   |   |   |--- prevalentHyp >  0.50\n",
      "|   |   |   |   |   |   |--- class: 1.0\n",
      "|   |--- sysBP >  1.09\n",
      "|   |   |--- male <= 0.50\n",
      "|   |   |   |--- sysBP <= 2.01\n",
      "|   |   |   |   |--- BMI <= -0.48\n",
      "|   |   |   |   |   |--- class: 0.0\n",
      "|   |   |   |   |--- BMI >  -0.48\n",
      "|   |   |   |   |   |--- heartRate <= -1.24\n",
      "|   |   |   |   |   |   |--- class: 0.0\n",
      "|   |   |   |   |   |--- heartRate >  -1.24\n",
      "|   |   |   |   |   |   |--- sysBP <= 1.12\n",
      "|   |   |   |   |   |   |   |--- class: 1.0\n",
      "|   |   |   |   |   |   |--- sysBP >  1.12\n",
      "|   |   |   |   |   |   |   |--- totChol <= 2.83\n",
      "|   |   |   |   |   |   |   |   |--- cigsPerDay <= 0.05\n",
      "|   |   |   |   |   |   |   |   |   |--- totChol <= -0.09\n",
      "|   |   |   |   |   |   |   |   |   |   |--- class: 0.0\n",
      "|   |   |   |   |   |   |   |   |   |--- totChol >  -0.09\n",
      "|   |   |   |   |   |   |   |   |   |   |--- education <= 3.50\n",
      "|   |   |   |   |   |   |   |   |   |   |   |--- truncated branch of depth 2\n",
      "|   |   |   |   |   |   |   |   |   |   |--- education >  3.50\n",
      "|   |   |   |   |   |   |   |   |   |   |   |--- class: 0.0\n",
      "|   |   |   |   |   |   |   |   |--- cigsPerDay >  0.05\n",
      "|   |   |   |   |   |   |   |   |   |--- class: 0.0\n",
      "|   |   |   |   |   |   |   |--- totChol >  2.83\n",
      "|   |   |   |   |   |   |   |   |--- class: 0.0\n",
      "|   |   |   |--- sysBP >  2.01\n",
      "|   |   |   |   |--- BMI <= 3.03\n",
      "|   |   |   |   |   |--- age <= 1.51\n",
      "|   |   |   |   |   |   |--- heartRate <= 0.23\n",
      "|   |   |   |   |   |   |   |--- class: 0.0\n",
      "|   |   |   |   |   |   |--- heartRate >  0.23\n",
      "|   |   |   |   |   |   |   |--- class: 0.0\n",
      "|   |   |   |   |   |--- age >  1.51\n",
      "|   |   |   |   |   |   |--- class: 1.0\n",
      "|   |   |   |   |--- BMI >  3.03\n",
      "|   |   |   |   |   |--- class: 1.0\n",
      "|   |   |--- male >  0.50\n",
      "|   |   |   |--- glucose <= 0.88\n",
      "|   |   |   |   |--- totChol <= -0.81\n",
      "|   |   |   |   |   |--- class: 0.0\n",
      "|   |   |   |   |--- totChol >  -0.81\n",
      "|   |   |   |   |   |--- glucose <= -0.37\n",
      "|   |   |   |   |   |   |--- BMI <= 1.67\n",
      "|   |   |   |   |   |   |   |--- class: 0.0\n",
      "|   |   |   |   |   |   |--- BMI >  1.67\n",
      "|   |   |   |   |   |   |   |--- class: 1.0\n",
      "|   |   |   |   |   |--- glucose >  -0.37\n",
      "|   |   |   |   |   |   |--- BMI <= -0.54\n",
      "|   |   |   |   |   |   |   |--- class: 0.0\n",
      "|   |   |   |   |   |   |--- BMI >  -0.54\n",
      "|   |   |   |   |   |   |   |--- cigsPerDay <= 0.26\n",
      "|   |   |   |   |   |   |   |   |--- class: 1.0\n",
      "|   |   |   |   |   |   |   |--- cigsPerDay >  0.26\n",
      "|   |   |   |   |   |   |   |   |--- class: 1.0\n",
      "|   |   |   |--- glucose >  0.88\n",
      "|   |   |   |   |--- class: 1.0\n",
      "\n"
     ]
    }
   ],
   "source": [
    "# Exporting the tree in text format\n",
    "from sklearn.tree import export_text\n",
    "dt_text_format = export_text(dt_clf, feature_names=list(train_data.columns[:13]))\n",
    "print('Decision tree in text format : \\n%s'%dt_text_format)"
   ]
  },
  {
   "cell_type": "code",
   "execution_count": 47,
   "id": "a8ea99c5",
   "metadata": {},
   "outputs": [],
   "source": [
    "#Random Forest Classifier"
   ]
  },
  {
   "cell_type": "code",
   "execution_count": 48,
   "id": "164b95fc",
   "metadata": {},
   "outputs": [],
   "source": [
    "from sklearn.ensemble import RandomForestClassifier"
   ]
  },
  {
   "cell_type": "code",
   "execution_count": 49,
   "id": "0303f714",
   "metadata": {},
   "outputs": [],
   "source": [
    "rf_clf = RandomForestClassifier(n_estimators = 150,min_samples_split=10,random_state=0)\n",
    "#n_estimators->represents the number of trees in the forest."
   ]
  },
  {
   "cell_type": "code",
   "execution_count": 50,
   "id": "3181531f",
   "metadata": {},
   "outputs": [],
   "source": [
    "rf_clf.fit(X_train, y_train)\n",
    "y_pred_rf = rf_clf.predict(X_test)"
   ]
  },
  {
   "cell_type": "code",
   "execution_count": 51,
   "id": "6f17fbe9",
   "metadata": {},
   "outputs": [
    {
     "name": "stdout",
     "output_type": "stream",
     "text": [
      "Accuracy score for Random Forest is 84.680135\n"
     ]
    }
   ],
   "source": [
    "rf_accuracy = accuracy_score(y_pred_rf, y_test)*100\n",
    "print('Accuracy score for Random Forest is %f'%rf_accuracy)"
   ]
  },
  {
   "cell_type": "code",
   "execution_count": 52,
   "id": "8a3ed64d",
   "metadata": {},
   "outputs": [
    {
     "name": "stdout",
     "output_type": "stream",
     "text": [
      "Train score for Random Forest is 91.631915\n"
     ]
    }
   ],
   "source": [
    "rf_train_score = rf_clf.score(X_train, y_train)*100\n",
    "print('Train score for Random Forest is %f'%rf_train_score)"
   ]
  },
  {
   "cell_type": "code",
   "execution_count": 53,
   "id": "3acd878a",
   "metadata": {},
   "outputs": [
    {
     "name": "stdout",
     "output_type": "stream",
     "text": [
      "Difference between train and test scores for Random Forest is : 6.951781\n"
     ]
    }
   ],
   "source": [
    "print('Difference between train and test scores for Random Forest is : %f'%(rf_train_score - rf_accuracy))"
   ]
  },
  {
   "cell_type": "code",
   "execution_count": 54,
   "id": "cc36cad2",
   "metadata": {},
   "outputs": [
    {
     "data": {
      "text/plain": [
       "array([[499,  90],\n",
       "       [  1,   4]], dtype=int64)"
      ]
     },
     "execution_count": 54,
     "metadata": {},
     "output_type": "execute_result"
    }
   ],
   "source": [
    "confusion_matrix(y_pred_rf, y_test)"
   ]
  },
  {
   "cell_type": "code",
   "execution_count": 55,
   "id": "109ceb89",
   "metadata": {},
   "outputs": [
    {
     "name": "stdout",
     "output_type": "stream",
     "text": [
      "              precision    recall  f1-score   support\n",
      "\n",
      "         0.0       1.00      0.85      0.92       589\n",
      "         1.0       0.04      0.80      0.08         5\n",
      "\n",
      "    accuracy                           0.85       594\n",
      "   macro avg       0.52      0.82      0.50       594\n",
      "weighted avg       0.99      0.85      0.91       594\n",
      "\n"
     ]
    }
   ],
   "source": [
    "print(classification_report(y_pred_rf, y_test))"
   ]
  },
  {
   "cell_type": "code",
   "execution_count": null,
   "id": "ea15f4e4",
   "metadata": {},
   "outputs": [],
   "source": [
    "#Conclusion:\n",
    "#Logistic Regression model has least difference(0.328978) in train and test scores and has accuracy of 85% approx So, it does not overfit the data. The F1-score is not good for positive class\n",
    "#So, Decision Tree Classifier was taken and we saw for min_samples_split as 40, we got almost good accuracy as logistic regression but better f1-score than logistic regression.\n",
    "#We also tried Random Forest Classifier with n_estimators as 150 and min_samples_split as 10. We got f1-score as the worst in all three models.\n",
    "#The hyperparameters(A hyperparameter is a parameter whose value is set before the learning process begins.) were tested and tuned repeatedly to get better accuracy with better f1-score.\n",
    "#Thus, Decision Tree model is recommended for our dataset."
   ]
  }
 ],
 "metadata": {
  "kernelspec": {
   "display_name": "Python 3 (ipykernel)",
   "language": "python",
   "name": "python3"
  },
  "language_info": {
   "codemirror_mode": {
    "name": "ipython",
    "version": 3
   },
   "file_extension": ".py",
   "mimetype": "text/x-python",
   "name": "python",
   "nbconvert_exporter": "python",
   "pygments_lexer": "ipython3",
   "version": "3.9.7"
  }
 },
 "nbformat": 4,
 "nbformat_minor": 5
}
